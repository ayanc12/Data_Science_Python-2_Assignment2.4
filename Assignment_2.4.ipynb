{
 "cells": [
  {
   "cell_type": "code",
   "execution_count": 29,
   "metadata": {},
   "outputs": [
    {
     "name": "stdout",
     "output_type": "stream",
     "text": [
      "WE, THE PEOPLE OF INDIA,\n",
      "      having solemnly resolved to constitute India into a SOVEREIGN,!\n",
      "            SOCIALIST, SECULAR, DEMOCRATIC REPUBLIC\n",
      "             and to secure to all its citizens:\n"
     ]
    }
   ],
   "source": [
    "# assigning the sentence\n",
    "\n",
    "line1 = \"WE, THE PEOPLE OF INDIA, having solemnly resolved to constitute India into a SOVEREIGN, SOCIALIST, SECULAR, DEMOCRATIC REPUBLIC and to secure to all its citizens\"\n",
    "\n",
    "# creating spaces for 2nd, 3rd and 4th lines\n",
    "sam = line1.split()\n",
    "pad = [x for x in \" \"*6]\n",
    "pad_str = \"\".join(pad)\n",
    "\n",
    "# logic to print the sentence in the given sample format\n",
    "\n",
    "for elm in sam:\n",
    "    to_print.append(elm)\n",
    "    if elm == \"INDIA,\":\n",
    "        res = \" \".join (to_print)\n",
    "        print (res)\n",
    "        to_print = []\n",
    "    elif elm == \"SOVEREIGN,\":\n",
    "        res = \" \".join(to_print)\n",
    "        print (pad_str+res+\"!\")\n",
    "        to_print = []\n",
    "    elif elm == \"REPUBLIC\":\n",
    "        res = \" \".join(to_print)\n",
    "        print (pad_str*2+res)\n",
    "        to_print = []\n",
    "    elif elm == \"citizens\":\n",
    "        res = \" \".join(to_print)\n",
    "        print (pad_str*2+\" \"+res+ \":\")\n",
    "        to_print = []\n"
   ]
  }
 ],
 "metadata": {
  "kernelspec": {
   "display_name": "Python 3",
   "language": "python",
   "name": "python3"
  },
  "language_info": {
   "codemirror_mode": {
    "name": "ipython",
    "version": 3
   },
   "file_extension": ".py",
   "mimetype": "text/x-python",
   "name": "python",
   "nbconvert_exporter": "python",
   "pygments_lexer": "ipython3",
   "version": "3.6.4"
  }
 },
 "nbformat": 4,
 "nbformat_minor": 2
}
